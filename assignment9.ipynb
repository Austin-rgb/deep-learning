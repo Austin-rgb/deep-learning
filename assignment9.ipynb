{
  "cells": [
    {
      "cell_type": "markdown",
      "metadata": {
        "id": "view-in-github",
        "colab_type": "text"
      },
      "source": [
        "<a href=\"https://colab.research.google.com/github/Austin-rgb/deep-learning/blob/main/assignment9.ipynb\" target=\"_parent\"><img src=\"https://colab.research.google.com/assets/colab-badge.svg\" alt=\"Open In Colab\"/></a>"
      ]
    },
    {
      "cell_type": "code",
      "execution_count": 1,
      "metadata": {
        "id": "Cx49qeXzDosk"
      },
      "outputs": [],
      "source": [
        "import tensorflow as tf\n",
        "from tensorflow.keras.datasets import mnist\n",
        "from tensorflow.keras.applications import VGG16\n",
        "from tensorflow.keras.layers import Dense, Flatten, Concatenate, Input\n",
        "from tensorflow.keras.models import Model\n",
        "from tensorflow.keras.utils import to_categorical\n",
        "from tensorflow.keras.optimizers import Adam\n",
        "import numpy as np\n"
      ]
    },
    {
      "cell_type": "code",
      "execution_count": 2,
      "metadata": {
        "colab": {
          "base_uri": "https://localhost:8080/"
        },
        "id": "GZRI4m_BDosw",
        "outputId": "ae07255e-9d9d-4b2e-cc4b-206153ecdd91"
      },
      "outputs": [
        {
          "output_type": "stream",
          "name": "stdout",
          "text": [
            "Downloading data from https://storage.googleapis.com/tensorflow/tf-keras-datasets/mnist.npz\n",
            "11490434/11490434 [==============================] - 2s 0us/step\n"
          ]
        }
      ],
      "source": [
        "# Load and preprocess the MNIST dataset\n",
        "(x_train, y_train), (x_test, y_test) = mnist.load_data()\n",
        "x_train = np.expand_dims(x_train, axis=-1)  # Add channel dimension\n",
        "x_test = np.expand_dims(x_test, axis=-1)\n",
        "x_train = tf.image.grayscale_to_rgb(tf.convert_to_tensor(x_train))\n",
        "x_test = tf.image.grayscale_to_rgb(tf.convert_to_tensor(x_test))\n",
        "y_train = tf.keras.utils.to_categorical(y_train, num_classes=10)\n",
        "y_test = tf.keras.utils.to_categorical(y_test, num_classes=10)\n"
      ]
    },
    {
      "cell_type": "code",
      "execution_count": 3,
      "metadata": {
        "id": "WentasSADos5"
      },
      "outputs": [],
      "source": [
        "# Create an input layer matching MNIST dataset shape\n",
        "input_tensor = Input(shape=(28, 28, 3))"
      ]
    },
    {
      "cell_type": "code",
      "execution_count": 4,
      "metadata": {
        "colab": {
          "base_uri": "https://localhost:8080/"
        },
        "id": "RDL434AwDos-",
        "outputId": "f4125de9-c68e-4739-82e2-c1ab5ad01909"
      },
      "outputs": [
        {
          "output_type": "stream",
          "name": "stdout",
          "text": [
            "Downloading data from https://storage.googleapis.com/tensorflow/keras-applications/vgg16/vgg16_weights_tf_dim_ordering_tf_kernels_notop.h5\n",
            "58889256/58889256 [==============================] - 4s 0us/step\n"
          ]
        }
      ],
      "source": [
        "\n",
        "# Load pre-trained VGG16 model without top layer\n",
        "base_model = VGG16(weights='imagenet', include_top=False, input_shape=(224, 224, 3))\n",
        "\n"
      ]
    },
    {
      "cell_type": "code",
      "execution_count": 5,
      "metadata": {
        "id": "7gj-vCHtDotE"
      },
      "outputs": [],
      "source": [
        "\n",
        "# Freeze the weights of the convolutional base of the VGG16 model\n",
        "for layer in base_model.layers:\n",
        "    layer.trainable = False\n"
      ]
    },
    {
      "cell_type": "code",
      "execution_count": 6,
      "metadata": {
        "id": "82BjKLF3DotJ"
      },
      "outputs": [],
      "source": [
        "# Add new layers on top of the pre-trained base\n",
        "input_tensor = Input(shape=(224, 224, 3))\n",
        "vgg_output = base_model(input_tensor)\n",
        "flatten_layer = Flatten()(vgg_output)\n",
        "dense_layer = Dense(256, activation='relu')(flatten_layer)\n",
        "output_layer = Dense(10, activation='softmax')(dense_layer)"
      ]
    },
    {
      "cell_type": "code",
      "execution_count": 7,
      "metadata": {
        "id": "5jIy31K5DotM"
      },
      "outputs": [],
      "source": [
        "# Concatenate the pre-trained model with new model\n",
        "model = Model(inputs=input_tensor, outputs=output_layer)\n"
      ]
    },
    {
      "cell_type": "code",
      "execution_count": 8,
      "metadata": {
        "colab": {
          "base_uri": "https://localhost:8080/"
        },
        "id": "zorK3oCNDotT",
        "outputId": "230a41ff-e248-4dc2-ca45-2402fd2bd6d6"
      },
      "outputs": [
        {
          "output_type": "stream",
          "name": "stdout",
          "text": [
            "Model: \"model\"\n",
            "_________________________________________________________________\n",
            " Layer (type)                Output Shape              Param #   \n",
            "=================================================================\n",
            " input_3 (InputLayer)        [(None, 224, 224, 3)]     0         \n",
            "                                                                 \n",
            " vgg16 (Functional)          (None, 7, 7, 512)         14714688  \n",
            "                                                                 \n",
            " flatten (Flatten)           (None, 25088)             0         \n",
            "                                                                 \n",
            " dense (Dense)               (None, 256)               6422784   \n",
            "                                                                 \n",
            " dense_1 (Dense)             (None, 10)                2570      \n",
            "                                                                 \n",
            "=================================================================\n",
            "Total params: 21140042 (80.64 MB)\n",
            "Trainable params: 6425354 (24.51 MB)\n",
            "Non-trainable params: 14714688 (56.13 MB)\n",
            "_________________________________________________________________\n"
          ]
        }
      ],
      "source": [
        "\n",
        "# Compile the model\n",
        "model.compile(optimizer=Adam(), loss='categorical_crossentropy', metrics=['accuracy'])\n",
        "model.summary()\n"
      ]
    },
    {
      "cell_type": "code",
      "execution_count": 9,
      "metadata": {
        "colab": {
          "base_uri": "https://localhost:8080/"
        },
        "id": "ek9fWbmZDotc",
        "outputId": "281c19fa-6dbd-42a3-c141-6727375bffb5"
      },
      "outputs": [
        {
          "output_type": "stream",
          "name": "stdout",
          "text": [
            "1/1 - 47s - loss: 11.3432 - accuracy: 0.1435 - val_loss: 26.5050 - val_accuracy: 0.5000 - 47s/epoch - 47s/step\n",
            "1/1 - 1s - loss: 30.0496 - accuracy: 0.4478 - val_loss: 24.5273 - val_accuracy: 0.4231 - 1s/epoch - 1s/step\n",
            "1/1 - 1s - loss: 19.1603 - accuracy: 0.5435 - val_loss: 5.6861 - val_accuracy: 0.7308 - 1s/epoch - 1s/step\n",
            "1/1 - 1s - loss: 7.1834 - accuracy: 0.7130 - val_loss: 5.0677 - val_accuracy: 0.7308 - 1s/epoch - 1s/step\n",
            "1/1 - 1s - loss: 5.3267 - accuracy: 0.7826 - val_loss: 1.0874 - val_accuracy: 0.9615 - 1s/epoch - 1s/step\n",
            "1/1 - 1s - loss: 1.8776 - accuracy: 0.8739 - val_loss: 3.5626 - val_accuracy: 0.8846 - 1s/epoch - 1s/step\n",
            "1/1 - 1s - loss: 1.5051 - accuracy: 0.9261 - val_loss: 4.2394 - val_accuracy: 0.8077 - 1s/epoch - 1s/step\n",
            "1/1 - 1s - loss: 1.1065 - accuracy: 0.9261 - val_loss: 1.5617 - val_accuracy: 0.9231 - 1s/epoch - 1s/step\n",
            "1/1 - 1s - loss: 1.4727 - accuracy: 0.9174 - val_loss: 0.0037 - val_accuracy: 1.0000 - 1s/epoch - 1s/step\n",
            "1/1 - 1s - loss: 1.8127 - accuracy: 0.9174 - val_loss: 1.2093 - val_accuracy: 0.9615 - 1s/epoch - 1s/step\n",
            "1/1 - 1s - loss: 1.1439 - accuracy: 0.9478 - val_loss: 3.4888 - val_accuracy: 0.9615 - 1s/epoch - 1s/step\n",
            "1/1 - 1s - loss: 1.1879 - accuracy: 0.9522 - val_loss: 2.0388 - val_accuracy: 0.9615 - 1s/epoch - 1s/step\n",
            "1/1 - 1s - loss: 0.7760 - accuracy: 0.9652 - val_loss: 0.4907 - val_accuracy: 0.9615 - 1s/epoch - 1s/step\n",
            "1/1 - 1s - loss: 0.7681 - accuracy: 0.9565 - val_loss: 0.0038 - val_accuracy: 1.0000 - 1s/epoch - 1s/step\n",
            "1/1 - 1s - loss: 1.1899 - accuracy: 0.9609 - val_loss: 1.2976 - val_accuracy: 0.9615 - 1s/epoch - 1s/step\n",
            "1/1 - 1s - loss: 0.4987 - accuracy: 0.9696 - val_loss: 0.1668 - val_accuracy: 0.9615 - 1s/epoch - 1s/step\n",
            "1/1 - 1s - loss: 0.6990 - accuracy: 0.9652 - val_loss: 0.5678 - val_accuracy: 0.9615 - 1s/epoch - 1s/step\n",
            "1/1 - 1s - loss: 1.1515 - accuracy: 0.9609 - val_loss: 0.0085 - val_accuracy: 1.0000 - 1s/epoch - 1s/step\n",
            "1/1 - 1s - loss: 1.2895 - accuracy: 0.9478 - val_loss: 0.0000e+00 - val_accuracy: 1.0000 - 1s/epoch - 1s/step\n",
            "1/1 - 1s - loss: 0.6609 - accuracy: 0.9652 - val_loss: 1.8824 - val_accuracy: 0.9615 - 1s/epoch - 1s/step\n",
            "1/1 - 1s - loss: 1.1077 - accuracy: 0.9652 - val_loss: 0.9603 - val_accuracy: 0.9615 - 1s/epoch - 1s/step\n",
            "1/1 - 1s - loss: 0.3126 - accuracy: 0.9870 - val_loss: 0.2842 - val_accuracy: 0.9615 - 1s/epoch - 1s/step\n",
            "1/1 - 1s - loss: 0.7706 - accuracy: 0.9652 - val_loss: 1.0457 - val_accuracy: 0.9615 - 1s/epoch - 1s/step\n",
            "1/1 - 1s - loss: 0.3367 - accuracy: 0.9739 - val_loss: 2.7909 - val_accuracy: 0.9615 - 1s/epoch - 1s/step\n",
            "1/1 - 1s - loss: 0.4657 - accuracy: 0.9696 - val_loss: 0.0000e+00 - val_accuracy: 1.0000 - 1s/epoch - 1s/step\n",
            "1/1 - 1s - loss: 0.0902 - accuracy: 0.9870 - val_loss: 0.1188 - val_accuracy: 0.9615 - 1s/epoch - 1s/step\n",
            "1/1 - 1s - loss: 0.9611 - accuracy: 0.9435 - val_loss: 0.0019 - val_accuracy: 1.0000 - 1s/epoch - 1s/step\n",
            "1/1 - 1s - loss: 0.9467 - accuracy: 0.9565 - val_loss: 1.0294 - val_accuracy: 0.9615 - 1s/epoch - 1s/step\n",
            "1/1 - 1s - loss: 0.9089 - accuracy: 0.9565 - val_loss: 1.7374 - val_accuracy: 0.9231 - 1s/epoch - 1s/step\n",
            "1/1 - 1s - loss: 0.6092 - accuracy: 0.9652 - val_loss: 0.0000e+00 - val_accuracy: 1.0000 - 1s/epoch - 1s/step\n",
            "1/1 - 1s - loss: 0.3151 - accuracy: 0.9826 - val_loss: 1.7960e-04 - val_accuracy: 1.0000 - 1s/epoch - 1s/step\n",
            "1/1 - 1s - loss: 0.6838 - accuracy: 0.9522 - val_loss: 0.4635 - val_accuracy: 0.9615 - 1s/epoch - 1s/step\n",
            "1/1 - 1s - loss: 0.7050 - accuracy: 0.9609 - val_loss: 2.8229 - val_accuracy: 0.9231 - 1s/epoch - 1s/step\n",
            "1/1 - 1s - loss: 0.5992 - accuracy: 0.9565 - val_loss: 0.7802 - val_accuracy: 0.9615 - 1s/epoch - 1s/step\n",
            "1/1 - 1s - loss: 1.1817 - accuracy: 0.9348 - val_loss: 1.5008e-05 - val_accuracy: 1.0000 - 1s/epoch - 1s/step\n",
            "1/1 - 1s - loss: 0.4497 - accuracy: 0.9739 - val_loss: 0.0000e+00 - val_accuracy: 1.0000 - 1s/epoch - 1s/step\n",
            "1/1 - 1s - loss: 0.3168 - accuracy: 0.9783 - val_loss: 0.9835 - val_accuracy: 0.9615 - 1s/epoch - 1s/step\n",
            "1/1 - 1s - loss: 0.6265 - accuracy: 0.9739 - val_loss: 0.0000e+00 - val_accuracy: 1.0000 - 1s/epoch - 1s/step\n",
            "1/1 - 1s - loss: 0.3433 - accuracy: 0.9870 - val_loss: 0.0000e+00 - val_accuracy: 1.0000 - 1s/epoch - 1s/step\n",
            "1/1 - 1s - loss: 0.3752 - accuracy: 0.9783 - val_loss: 2.9497 - val_accuracy: 0.9231 - 1s/epoch - 1s/step\n",
            "1/1 - 1s - loss: 1.2390 - accuracy: 0.9522 - val_loss: 0.0000e+00 - val_accuracy: 1.0000 - 1s/epoch - 1s/step\n",
            "1/1 - 1s - loss: 0.2448 - accuracy: 0.9870 - val_loss: 1.8340e-08 - val_accuracy: 1.0000 - 1s/epoch - 1s/step\n",
            "1/1 - 1s - loss: 0.3095 - accuracy: 0.9826 - val_loss: 6.6340 - val_accuracy: 0.8846 - 1s/epoch - 1s/step\n",
            "1/1 - 1s - loss: 0.0626 - accuracy: 0.9870 - val_loss: 0.0000e+00 - val_accuracy: 1.0000 - 1s/epoch - 1s/step\n",
            "1/1 - 1s - loss: 0.1649 - accuracy: 0.9870 - val_loss: 3.5304e-07 - val_accuracy: 1.0000 - 1s/epoch - 1s/step\n",
            "1/1 - 1s - loss: 0.1256 - accuracy: 0.9913 - val_loss: 6.3125e-05 - val_accuracy: 1.0000 - 1s/epoch - 1s/step\n",
            "1/1 - 1s - loss: 0.3645 - accuracy: 0.9696 - val_loss: 2.2925e-08 - val_accuracy: 1.0000 - 1s/epoch - 1s/step\n",
            "1/1 - 1s - loss: 0.1446 - accuracy: 0.9870 - val_loss: 0.0000e+00 - val_accuracy: 1.0000 - 1s/epoch - 1s/step\n",
            "1/1 - 1s - loss: 0.2069 - accuracy: 0.9870 - val_loss: 3.6680e-07 - val_accuracy: 1.0000 - 1s/epoch - 1s/step\n",
            "1/1 - 1s - loss: 0.8290 - accuracy: 0.9696 - val_loss: 0.0012 - val_accuracy: 1.0000 - 1s/epoch - 1s/step\n",
            "1/1 - 1s - loss: 0.3649 - accuracy: 0.9652 - val_loss: 0.0530 - val_accuracy: 0.9615 - 1s/epoch - 1s/step\n",
            "1/1 - 1s - loss: 0.4742 - accuracy: 0.9696 - val_loss: 0.0000e+00 - val_accuracy: 1.0000 - 1s/epoch - 1s/step\n",
            "1/1 - 1s - loss: 0.0902 - accuracy: 0.9957 - val_loss: 0.0340 - val_accuracy: 0.9615 - 1s/epoch - 1s/step\n",
            "1/1 - 1s - loss: 0.1347 - accuracy: 0.9870 - val_loss: 2.7510e-08 - val_accuracy: 1.0000 - 1s/epoch - 1s/step\n",
            "1/1 - 1s - loss: 0.3646 - accuracy: 0.9739 - val_loss: 0.5577 - val_accuracy: 0.9615 - 1s/epoch - 1s/step\n",
            "1/1 - 1s - loss: 0.1424 - accuracy: 0.9826 - val_loss: 0.4075 - val_accuracy: 0.9615 - 1s/epoch - 1s/step\n",
            "1/1 - 1s - loss: 0.2456 - accuracy: 0.9783 - val_loss: 1.0369 - val_accuracy: 0.9615 - 1s/epoch - 1s/step\n",
            "1/1 - 1s - loss: 0.3769 - accuracy: 0.9826 - val_loss: 8.9628e-06 - val_accuracy: 1.0000 - 1s/epoch - 1s/step\n",
            "1/1 - 1s - loss: 0.0014 - accuracy: 1.0000 - val_loss: 0.0000e+00 - val_accuracy: 1.0000 - 1s/epoch - 1s/step\n",
            "1/1 - 1s - loss: 0.3487 - accuracy: 0.9739 - val_loss: 0.0192 - val_accuracy: 1.0000 - 1s/epoch - 1s/step\n",
            "1/1 - 1s - loss: 0.6852 - accuracy: 0.9783 - val_loss: 1.2425e-06 - val_accuracy: 1.0000 - 1s/epoch - 1s/step\n",
            "1/1 - 1s - loss: 0.3349 - accuracy: 0.9739 - val_loss: 0.4608 - val_accuracy: 0.9615 - 1s/epoch - 1s/step\n",
            "1/1 - 1s - loss: 0.1971 - accuracy: 0.9826 - val_loss: 0.0000e+00 - val_accuracy: 1.0000 - 1s/epoch - 1s/step\n",
            "1/1 - 1s - loss: 0.2614 - accuracy: 0.9783 - val_loss: 0.5716 - val_accuracy: 0.9615 - 1s/epoch - 1s/step\n",
            "1/1 - 1s - loss: 0.2585 - accuracy: 0.9870 - val_loss: 0.4973 - val_accuracy: 0.9615 - 1s/epoch - 1s/step\n",
            "1/1 - 1s - loss: 0.4247 - accuracy: 0.9826 - val_loss: 1.5475 - val_accuracy: 0.9231 - 1s/epoch - 1s/step\n",
            "1/1 - 1s - loss: 0.3381 - accuracy: 0.9783 - val_loss: 0.0000e+00 - val_accuracy: 1.0000 - 1s/epoch - 1s/step\n",
            "1/1 - 1s - loss: 0.2302 - accuracy: 0.9826 - val_loss: 0.4069 - val_accuracy: 0.9615 - 1s/epoch - 1s/step\n",
            "1/1 - 1s - loss: 0.3266 - accuracy: 0.9739 - val_loss: 1.8340e-08 - val_accuracy: 1.0000 - 1s/epoch - 1s/step\n",
            "1/1 - 1s - loss: 0.4607 - accuracy: 0.9783 - val_loss: 0.4956 - val_accuracy: 0.9615 - 1s/epoch - 1s/step\n",
            "1/1 - 1s - loss: 0.3617 - accuracy: 0.9783 - val_loss: 0.1146 - val_accuracy: 0.9615 - 1s/epoch - 1s/step\n",
            "1/1 - 1s - loss: 0.2961 - accuracy: 0.9783 - val_loss: 0.0919 - val_accuracy: 0.9615 - 1s/epoch - 1s/step\n",
            "1/1 - 1s - loss: 0.2479 - accuracy: 0.9783 - val_loss: 3.9169e-04 - val_accuracy: 1.0000 - 1s/epoch - 1s/step\n",
            "1/1 - 1s - loss: 0.1027 - accuracy: 0.9957 - val_loss: 0.0000e+00 - val_accuracy: 1.0000 - 1s/epoch - 1s/step\n",
            "1/1 - 1s - loss: 0.0617 - accuracy: 0.9913 - val_loss: 0.2721 - val_accuracy: 0.9615 - 1s/epoch - 1s/step\n",
            "1/1 - 1s - loss: 0.6052 - accuracy: 0.9739 - val_loss: 0.0000e+00 - val_accuracy: 1.0000 - 1s/epoch - 1s/step\n",
            "1/1 - 1s - loss: 0.4093 - accuracy: 0.9783 - val_loss: 0.0000e+00 - val_accuracy: 1.0000 - 1s/epoch - 1s/step\n",
            "1/1 - 1s - loss: 0.0479 - accuracy: 0.9957 - val_loss: 0.0255 - val_accuracy: 1.0000 - 1s/epoch - 1s/step\n",
            "1/1 - 1s - loss: 0.1981 - accuracy: 0.9913 - val_loss: 5.8687e-07 - val_accuracy: 1.0000 - 1s/epoch - 1s/step\n",
            "1/1 - 1s - loss: 0.1899 - accuracy: 0.9826 - val_loss: 0.6888 - val_accuracy: 0.9615 - 1s/epoch - 1s/step\n",
            "1/1 - 1s - loss: 0.2843 - accuracy: 0.9870 - val_loss: 1.4224 - val_accuracy: 0.9231 - 1s/epoch - 1s/step\n",
            "1/1 - 1s - loss: 0.0363 - accuracy: 0.9957 - val_loss: 0.5575 - val_accuracy: 0.9615 - 1s/epoch - 1s/step\n",
            "1/1 - 1s - loss: 1.1863e-05 - accuracy: 1.0000 - val_loss: 0.0000e+00 - val_accuracy: 1.0000 - 1s/epoch - 1s/step\n",
            "1/1 - 1s - loss: 0.1460 - accuracy: 0.9870 - val_loss: 0.0640 - val_accuracy: 0.9615 - 1s/epoch - 1s/step\n",
            "1/1 - 1s - loss: 0.0310 - accuracy: 0.9957 - val_loss: 0.0000e+00 - val_accuracy: 1.0000 - 1s/epoch - 1s/step\n",
            "1/1 - 1s - loss: 0.2441 - accuracy: 0.9870 - val_loss: 0.7122 - val_accuracy: 0.9231 - 1s/epoch - 1s/step\n",
            "1/1 - 1s - loss: 0.2050 - accuracy: 0.9783 - val_loss: 0.0000e+00 - val_accuracy: 1.0000 - 1s/epoch - 1s/step\n",
            "1/1 - 1s - loss: 0.1273 - accuracy: 0.9870 - val_loss: 4.8323e-06 - val_accuracy: 1.0000 - 1s/epoch - 1s/step\n",
            "1/1 - 1s - loss: 0.2100 - accuracy: 0.9826 - val_loss: 1.4624 - val_accuracy: 0.9615 - 1s/epoch - 1s/step\n",
            "1/1 - 1s - loss: 0.0824 - accuracy: 0.9870 - val_loss: 0.0000e+00 - val_accuracy: 1.0000 - 1s/epoch - 1s/step\n",
            "1/1 - 1s - loss: 0.1405 - accuracy: 0.9913 - val_loss: 0.0000e+00 - val_accuracy: 1.0000 - 1s/epoch - 1s/step\n",
            "1/1 - 1s - loss: 0.3366 - accuracy: 0.9870 - val_loss: 1.3913e-04 - val_accuracy: 1.0000 - 1s/epoch - 1s/step\n",
            "1/1 - 1s - loss: 0.1931 - accuracy: 0.9913 - val_loss: 0.3175 - val_accuracy: 0.9615 - 1s/epoch - 1s/step\n",
            "1/1 - 1s - loss: 0.2342 - accuracy: 0.9826 - val_loss: 0.1281 - val_accuracy: 0.9615 - 1s/epoch - 1s/step\n",
            "1/1 - 1s - loss: 0.0862 - accuracy: 0.9913 - val_loss: 2.7510e-08 - val_accuracy: 1.0000 - 1s/epoch - 1s/step\n",
            "1/1 - 1s - loss: 0.1625 - accuracy: 0.9826 - val_loss: 0.0000e+00 - val_accuracy: 1.0000 - 1s/epoch - 1s/step\n",
            "1/1 - 1s - loss: 0.2381 - accuracy: 0.9739 - val_loss: 0.0000e+00 - val_accuracy: 1.0000 - 1s/epoch - 1s/step\n",
            "1/1 - 1s - loss: 0.1581 - accuracy: 0.9826 - val_loss: 0.0000e+00 - val_accuracy: 1.0000 - 1s/epoch - 1s/step\n",
            "1/1 - 1s - loss: 0.1957 - accuracy: 0.9739 - val_loss: 0.0000e+00 - val_accuracy: 1.0000 - 1s/epoch - 1s/step\n",
            "1/1 - 1s - loss: 0.3890 - accuracy: 0.9870 - val_loss: 0.0000e+00 - val_accuracy: 1.0000 - 1s/epoch - 1s/step\n",
            "1/1 - 1s - loss: 0.2223 - accuracy: 0.9870 - val_loss: 1.9715e-07 - val_accuracy: 1.0000 - 1s/epoch - 1s/step\n",
            "1/1 - 1s - loss: 0.0751 - accuracy: 0.9913 - val_loss: 7.3356e-04 - val_accuracy: 1.0000 - 1s/epoch - 1s/step\n",
            "1/1 - 1s - loss: 0.1085 - accuracy: 0.9957 - val_loss: 1.5477 - val_accuracy: 0.9231 - 1s/epoch - 1s/step\n",
            "1/1 - 1s - loss: 0.4834 - accuracy: 0.9609 - val_loss: 1.1652 - val_accuracy: 0.9231 - 1s/epoch - 1s/step\n",
            "1/1 - 1s - loss: 0.4234 - accuracy: 0.9696 - val_loss: 0.3248 - val_accuracy: 0.9615 - 1s/epoch - 1s/step\n",
            "1/1 - 1s - loss: 0.0114 - accuracy: 0.9957 - val_loss: 0.0000e+00 - val_accuracy: 1.0000 - 1s/epoch - 1s/step\n",
            "1/1 - 1s - loss: 0.2165 - accuracy: 0.9783 - val_loss: 0.0000e+00 - val_accuracy: 1.0000 - 1s/epoch - 1s/step\n",
            "1/1 - 1s - loss: 9.4288e-04 - accuracy: 1.0000 - val_loss: 3.1576e-04 - val_accuracy: 1.0000 - 1s/epoch - 1s/step\n",
            "1/1 - 1s - loss: 0.2136 - accuracy: 0.9826 - val_loss: 0.0000e+00 - val_accuracy: 1.0000 - 1s/epoch - 1s/step\n",
            "1/1 - 1s - loss: 0.0400 - accuracy: 0.9957 - val_loss: 4.5850e-09 - val_accuracy: 1.0000 - 1s/epoch - 1s/step\n",
            "1/1 - 1s - loss: 0.0626 - accuracy: 0.9957 - val_loss: 0.0046 - val_accuracy: 1.0000 - 1s/epoch - 1s/step\n",
            "1/1 - 1s - loss: 0.0781 - accuracy: 0.9870 - val_loss: 0.0103 - val_accuracy: 1.0000 - 1s/epoch - 1s/step\n",
            "1/1 - 2s - loss: 0.1383 - accuracy: 0.9783 - val_loss: 1.2363e-04 - val_accuracy: 1.0000 - 2s/epoch - 2s/step\n",
            "1/1 - 1s - loss: 0.4491 - accuracy: 0.9652 - val_loss: 0.6802 - val_accuracy: 0.9615 - 1s/epoch - 1s/step\n",
            "1/1 - 1s - loss: 0.0723 - accuracy: 0.9870 - val_loss: 0.5133 - val_accuracy: 0.9615 - 1s/epoch - 1s/step\n",
            "1/1 - 1s - loss: 0.0912 - accuracy: 0.9913 - val_loss: 0.5234 - val_accuracy: 0.9615 - 1s/epoch - 1s/step\n",
            "1/1 - 1s - loss: 0.2500 - accuracy: 0.9826 - val_loss: 6.4780e-06 - val_accuracy: 1.0000 - 1s/epoch - 1s/step\n",
            "1/1 - 1s - loss: 0.3160 - accuracy: 0.9783 - val_loss: 8.2529e-08 - val_accuracy: 1.0000 - 1s/epoch - 1s/step\n",
            "1/1 - 1s - loss: 0.0364 - accuracy: 0.9870 - val_loss: 0.0124 - val_accuracy: 1.0000 - 1s/epoch - 1s/step\n",
            "1/1 - 1s - loss: 0.3502 - accuracy: 0.9696 - val_loss: 0.0744 - val_accuracy: 0.9615 - 1s/epoch - 1s/step\n",
            "1/1 - 1s - loss: 0.3170 - accuracy: 0.9826 - val_loss: 1.0912e-06 - val_accuracy: 1.0000 - 1s/epoch - 1s/step\n",
            "1/1 - 1s - loss: 0.6990 - accuracy: 0.9783 - val_loss: 0.0000e+00 - val_accuracy: 1.0000 - 1s/epoch - 1s/step\n",
            "1/1 - 1s - loss: 0.4824 - accuracy: 0.9739 - val_loss: 0.0458 - val_accuracy: 0.9615 - 1s/epoch - 1s/step\n",
            "1/1 - 1s - loss: 0.2966 - accuracy: 0.9783 - val_loss: 0.6018 - val_accuracy: 0.9231 - 1s/epoch - 1s/step\n",
            "1/1 - 1s - loss: 0.2953 - accuracy: 0.9739 - val_loss: 5.5936e-07 - val_accuracy: 1.0000 - 1s/epoch - 1s/step\n",
            "1/1 - 1s - loss: 0.1629 - accuracy: 0.9826 - val_loss: 1.6739 - val_accuracy: 0.9231 - 1s/epoch - 1s/step\n",
            "1/1 - 1s - loss: 0.7813 - accuracy: 0.9609 - val_loss: 1.5776e-04 - val_accuracy: 1.0000 - 1s/epoch - 1s/step\n",
            "1/1 - 1s - loss: 0.1390 - accuracy: 0.9957 - val_loss: 0.5909 - val_accuracy: 0.9615 - 1s/epoch - 1s/step\n",
            "1/1 - 1s - loss: 0.1389 - accuracy: 0.9913 - val_loss: 0.0000e+00 - val_accuracy: 1.0000 - 1s/epoch - 1s/step\n",
            "1/1 - 1s - loss: 0.0613 - accuracy: 0.9870 - val_loss: 0.0327 - val_accuracy: 0.9615 - 1s/epoch - 1s/step\n",
            "1/1 - 1s - loss: 0.9961 - accuracy: 0.9565 - val_loss: 0.0000e+00 - val_accuracy: 1.0000 - 1s/epoch - 1s/step\n",
            "1/1 - 1s - loss: 0.2280 - accuracy: 0.9870 - val_loss: 1.6328e-05 - val_accuracy: 1.0000 - 1s/epoch - 1s/step\n",
            "1/1 - 1s - loss: 1.6790e-04 - accuracy: 1.0000 - val_loss: 0.0000e+00 - val_accuracy: 1.0000 - 1s/epoch - 1s/step\n",
            "1/1 - 1s - loss: 0.0698 - accuracy: 0.9870 - val_loss: 0.0000e+00 - val_accuracy: 1.0000 - 1s/epoch - 1s/step\n",
            "1/1 - 1s - loss: 0.2971 - accuracy: 0.9783 - val_loss: 0.1303 - val_accuracy: 0.9615 - 1s/epoch - 1s/step\n",
            "1/1 - 1s - loss: 0.4144 - accuracy: 0.9739 - val_loss: 1.9257e-07 - val_accuracy: 1.0000 - 1s/epoch - 1s/step\n",
            "1/1 - 1s - loss: 0.1623 - accuracy: 0.9870 - val_loss: 0.1130 - val_accuracy: 0.9615 - 1s/epoch - 1s/step\n",
            "1/1 - 1s - loss: 0.1301 - accuracy: 0.9913 - val_loss: 0.8799 - val_accuracy: 0.9615 - 1s/epoch - 1s/step\n",
            "1/1 - 1s - loss: 0.1676 - accuracy: 0.9870 - val_loss: 0.0000e+00 - val_accuracy: 1.0000 - 1s/epoch - 1s/step\n",
            "1/1 - 1s - loss: 0.3242 - accuracy: 0.9913 - val_loss: 0.1374 - val_accuracy: 0.9615 - 1s/epoch - 1s/step\n",
            "1/1 - 1s - loss: 0.2441 - accuracy: 0.9739 - val_loss: 1.0325 - val_accuracy: 0.9615 - 1s/epoch - 1s/step\n",
            "1/1 - 1s - loss: 0.1845 - accuracy: 0.9826 - val_loss: 3.4936e-06 - val_accuracy: 1.0000 - 1s/epoch - 1s/step\n",
            "1/1 - 1s - loss: 0.3053 - accuracy: 0.9826 - val_loss: 0.0480 - val_accuracy: 0.9615 - 1s/epoch - 1s/step\n",
            "1/1 - 1s - loss: 0.4442 - accuracy: 0.9696 - val_loss: 6.8775e-08 - val_accuracy: 1.0000 - 1s/epoch - 1s/step\n",
            "1/1 - 1s - loss: 0.1710 - accuracy: 0.9870 - val_loss: 0.0135 - val_accuracy: 1.0000 - 1s/epoch - 1s/step\n",
            "1/1 - 1s - loss: 0.2657 - accuracy: 0.9870 - val_loss: 1.3388e-06 - val_accuracy: 1.0000 - 1s/epoch - 1s/step\n",
            "1/1 - 1s - loss: 0.7535 - accuracy: 0.9609 - val_loss: 0.0000e+00 - val_accuracy: 1.0000 - 1s/epoch - 1s/step\n",
            "1/1 - 1s - loss: 0.3156 - accuracy: 0.9696 - val_loss: 0.0000e+00 - val_accuracy: 1.0000 - 1s/epoch - 1s/step\n",
            "1/1 - 1s - loss: 0.1528 - accuracy: 0.9826 - val_loss: 0.0000e+00 - val_accuracy: 1.0000 - 1s/epoch - 1s/step\n",
            "1/1 - 1s - loss: 0.1217 - accuracy: 0.9870 - val_loss: 3.0017 - val_accuracy: 0.8846 - 1s/epoch - 1s/step\n",
            "1/1 - 1s - loss: 0.1864 - accuracy: 0.9913 - val_loss: 1.1229 - val_accuracy: 0.9615 - 1s/epoch - 1s/step\n",
            "1/1 - 1s - loss: 0.3369 - accuracy: 0.9826 - val_loss: 0.0000e+00 - val_accuracy: 1.0000 - 1s/epoch - 1s/step\n",
            "1/1 - 1s - loss: 0.1230 - accuracy: 0.9739 - val_loss: 0.0000e+00 - val_accuracy: 1.0000 - 1s/epoch - 1s/step\n",
            "1/1 - 1s - loss: 1.0478 - accuracy: 0.9435 - val_loss: 0.6112 - val_accuracy: 0.9231 - 1s/epoch - 1s/step\n",
            "1/1 - 1s - loss: 0.3846 - accuracy: 0.9696 - val_loss: 0.7927 - val_accuracy: 0.8846 - 1s/epoch - 1s/step\n",
            "1/1 - 1s - loss: 0.3549 - accuracy: 0.9522 - val_loss: 1.5589e-07 - val_accuracy: 1.0000 - 1s/epoch - 1s/step\n",
            "1/1 - 1s - loss: 0.0702 - accuracy: 0.9870 - val_loss: 6.2696e-04 - val_accuracy: 1.0000 - 1s/epoch - 1s/step\n",
            "1/1 - 1s - loss: 0.1855 - accuracy: 0.9870 - val_loss: 0.0053 - val_accuracy: 1.0000 - 1s/epoch - 1s/step\n",
            "1/1 - 1s - loss: 0.3497 - accuracy: 0.9826 - val_loss: 0.0000e+00 - val_accuracy: 1.0000 - 1s/epoch - 1s/step\n",
            "1/1 - 1s - loss: 0.6023 - accuracy: 0.9739 - val_loss: 0.3137 - val_accuracy: 0.9615 - 1s/epoch - 1s/step\n",
            "1/1 - 1s - loss: 0.3049 - accuracy: 0.9739 - val_loss: 0.0021 - val_accuracy: 1.0000 - 1s/epoch - 1s/step\n",
            "1/1 - 1s - loss: 0.3637 - accuracy: 0.9739 - val_loss: 1.0904 - val_accuracy: 0.9231 - 1s/epoch - 1s/step\n",
            "1/1 - 1s - loss: 0.4976 - accuracy: 0.9739 - val_loss: 0.0000e+00 - val_accuracy: 1.0000 - 1s/epoch - 1s/step\n",
            "1/1 - 1s - loss: 0.3249 - accuracy: 0.9696 - val_loss: 0.0000e+00 - val_accuracy: 1.0000 - 1s/epoch - 1s/step\n",
            "1/1 - 1s - loss: 0.2904 - accuracy: 0.9739 - val_loss: 0.0064 - val_accuracy: 1.0000 - 1s/epoch - 1s/step\n",
            "1/1 - 1s - loss: 0.1621 - accuracy: 0.9870 - val_loss: 0.4352 - val_accuracy: 0.9615 - 1s/epoch - 1s/step\n",
            "1/1 - 1s - loss: 0.1623 - accuracy: 0.9870 - val_loss: 2.2925e-08 - val_accuracy: 1.0000 - 1s/epoch - 1s/step\n",
            "1/1 - 1s - loss: 0.2610 - accuracy: 0.9696 - val_loss: 9.1699e-09 - val_accuracy: 1.0000 - 1s/epoch - 1s/step\n",
            "1/1 - 1s - loss: 0.5050 - accuracy: 0.9783 - val_loss: 0.1012 - val_accuracy: 0.9615 - 1s/epoch - 1s/step\n",
            "1/1 - 1s - loss: 0.1677 - accuracy: 0.9870 - val_loss: 5.2064e-05 - val_accuracy: 1.0000 - 1s/epoch - 1s/step\n",
            "1/1 - 1s - loss: 0.1484 - accuracy: 0.9870 - val_loss: 2.0861e-06 - val_accuracy: 1.0000 - 1s/epoch - 1s/step\n",
            "1/1 - 1s - loss: 0.2467 - accuracy: 0.9783 - val_loss: 1.2508e-04 - val_accuracy: 1.0000 - 1s/epoch - 1s/step\n",
            "1/1 - 1s - loss: 0.0683 - accuracy: 0.9870 - val_loss: 0.0428 - val_accuracy: 0.9615 - 1s/epoch - 1s/step\n",
            "1/1 - 1s - loss: 0.5836 - accuracy: 0.9652 - val_loss: 0.0000e+00 - val_accuracy: 1.0000 - 1s/epoch - 1s/step\n",
            "1/1 - 1s - loss: 0.2454 - accuracy: 0.9870 - val_loss: 9.1699e-09 - val_accuracy: 1.0000 - 1s/epoch - 1s/step\n",
            "1/1 - 1s - loss: 0.1523 - accuracy: 0.9870 - val_loss: 0.0108 - val_accuracy: 1.0000 - 1s/epoch - 1s/step\n",
            "1/1 - 1s - loss: 0.2459 - accuracy: 0.9783 - val_loss: 0.0000e+00 - val_accuracy: 1.0000 - 1s/epoch - 1s/step\n",
            "1/1 - 1s - loss: 0.3112 - accuracy: 0.9783 - val_loss: 0.0000e+00 - val_accuracy: 1.0000 - 1s/epoch - 1s/step\n",
            "1/1 - 1s - loss: 0.0584 - accuracy: 0.9870 - val_loss: 0.8558 - val_accuracy: 0.9231 - 1s/epoch - 1s/step\n",
            "1/1 - 1s - loss: 0.3743 - accuracy: 0.9739 - val_loss: 0.3828 - val_accuracy: 0.9615 - 1s/epoch - 1s/step\n",
            "1/1 - 1s - loss: 0.4023 - accuracy: 0.9739 - val_loss: 0.2985 - val_accuracy: 0.9615 - 1s/epoch - 1s/step\n",
            "1/1 - 1s - loss: 0.0800 - accuracy: 0.9913 - val_loss: 0.0012 - val_accuracy: 1.0000 - 1s/epoch - 1s/step\n",
            "1/1 - 1s - loss: 0.1198 - accuracy: 0.9826 - val_loss: 1.8340e-08 - val_accuracy: 1.0000 - 1s/epoch - 1s/step\n",
            "1/1 - 1s - loss: 0.1192 - accuracy: 0.9870 - val_loss: 2.0603e-04 - val_accuracy: 1.0000 - 1s/epoch - 1s/step\n",
            "1/1 - 1s - loss: 0.1659 - accuracy: 0.9826 - val_loss: 0.0059 - val_accuracy: 1.0000 - 1s/epoch - 1s/step\n",
            "1/1 - 1s - loss: 0.2670 - accuracy: 0.9826 - val_loss: 0.8799 - val_accuracy: 0.9615 - 1s/epoch - 1s/step\n",
            "1/1 - 1s - loss: 0.0371 - accuracy: 0.9957 - val_loss: 3.1818e-06 - val_accuracy: 1.0000 - 1s/epoch - 1s/step\n",
            "1/1 - 1s - loss: 0.1427 - accuracy: 0.9870 - val_loss: 0.0015 - val_accuracy: 1.0000 - 1s/epoch - 1s/step\n",
            "1/1 - 1s - loss: 0.2669 - accuracy: 0.9783 - val_loss: 2.2603e-06 - val_accuracy: 1.0000 - 1s/epoch - 1s/step\n",
            "1/1 - 1s - loss: 0.3814 - accuracy: 0.9783 - val_loss: 0.4506 - val_accuracy: 0.9231 - 1s/epoch - 1s/step\n",
            "1/1 - 1s - loss: 0.2333 - accuracy: 0.9826 - val_loss: 5.0248e-06 - val_accuracy: 1.0000 - 1s/epoch - 1s/step\n",
            "1/1 - 1s - loss: 0.3950 - accuracy: 0.9652 - val_loss: 0.9381 - val_accuracy: 0.9615 - 1s/epoch - 1s/step\n",
            "1/1 - 1s - loss: 0.2413 - accuracy: 0.9913 - val_loss: 0.2621 - val_accuracy: 0.9615 - 1s/epoch - 1s/step\n",
            "1/1 - 1s - loss: 0.4044 - accuracy: 0.9783 - val_loss: 2.7510e-08 - val_accuracy: 1.0000 - 1s/epoch - 1s/step\n",
            "1/1 - 1s - loss: 0.2126 - accuracy: 0.9826 - val_loss: 0.4904 - val_accuracy: 0.9615 - 1s/epoch - 1s/step\n",
            "1/1 - 1s - loss: 0.2239 - accuracy: 0.9913 - val_loss: 0.0000e+00 - val_accuracy: 1.0000 - 1s/epoch - 1s/step\n",
            "1/1 - 1s - loss: 0.1656 - accuracy: 0.9783 - val_loss: 0.8517 - val_accuracy: 0.9615 - 1s/epoch - 1s/step\n",
            "1/1 - 1s - loss: 0.1144 - accuracy: 0.9913 - val_loss: 0.0000e+00 - val_accuracy: 1.0000 - 1s/epoch - 1s/step\n",
            "1/1 - 1s - loss: 0.0918 - accuracy: 0.9826 - val_loss: 0.1132 - val_accuracy: 0.9615 - 1s/epoch - 1s/step\n",
            "1/1 - 1s - loss: 0.1096 - accuracy: 0.9913 - val_loss: 0.0919 - val_accuracy: 0.9615 - 1s/epoch - 1s/step\n",
            "1/1 - 1s - loss: 0.1322 - accuracy: 0.9783 - val_loss: 1.0984e-05 - val_accuracy: 1.0000 - 1s/epoch - 1s/step\n",
            "1/1 - 1s - loss: 0.2214 - accuracy: 0.9870 - val_loss: 1.3184e-04 - val_accuracy: 1.0000 - 1s/epoch - 1s/step\n",
            "1/1 - 1s - loss: 0.0385 - accuracy: 0.9957 - val_loss: 1.8178 - val_accuracy: 0.9615 - 1s/epoch - 1s/step\n",
            "1/1 - 1s - loss: 0.2363 - accuracy: 0.9826 - val_loss: 0.2775 - val_accuracy: 0.9615 - 1s/epoch - 1s/step\n",
            "1/1 - 1s - loss: 0.1058 - accuracy: 0.9826 - val_loss: 0.2182 - val_accuracy: 0.9615 - 1s/epoch - 1s/step\n",
            "1/1 - 1s - loss: 0.0811 - accuracy: 0.9913 - val_loss: 0.1240 - val_accuracy: 0.9615 - 1s/epoch - 1s/step\n",
            "1/1 - 1s - loss: 0.4966 - accuracy: 0.9739 - val_loss: 0.4163 - val_accuracy: 0.9231 - 1s/epoch - 1s/step\n",
            "1/1 - 1s - loss: 0.0601 - accuracy: 0.9957 - val_loss: 0.0000e+00 - val_accuracy: 1.0000 - 1s/epoch - 1s/step\n",
            "1/1 - 1s - loss: 0.0547 - accuracy: 0.9957 - val_loss: 0.0036 - val_accuracy: 1.0000 - 1s/epoch - 1s/step\n",
            "1/1 - 1s - loss: 0.1770 - accuracy: 0.9826 - val_loss: 0.0845 - val_accuracy: 0.9615 - 1s/epoch - 1s/step\n",
            "1/1 - 1s - loss: 0.1311 - accuracy: 0.9913 - val_loss: 0.3039 - val_accuracy: 0.9231 - 1s/epoch - 1s/step\n",
            "1/1 - 1s - loss: 0.1915 - accuracy: 0.9870 - val_loss: 0.7104 - val_accuracy: 0.9615 - 1s/epoch - 1s/step\n",
            "1/1 - 1s - loss: 0.2356 - accuracy: 0.9783 - val_loss: 0.3800 - val_accuracy: 0.9615 - 1s/epoch - 1s/step\n",
            "1/1 - 1s - loss: 0.0013 - accuracy: 1.0000 - val_loss: 0.0915 - val_accuracy: 0.9615 - 1s/epoch - 1s/step\n",
            "1/1 - 1s - loss: 0.1078 - accuracy: 0.9913 - val_loss: 0.0000e+00 - val_accuracy: 1.0000 - 1s/epoch - 1s/step\n",
            "1/1 - 1s - loss: 0.1357 - accuracy: 0.9913 - val_loss: 0.2726 - val_accuracy: 0.9615 - 1s/epoch - 1s/step\n",
            "1/1 - 1s - loss: 0.0065 - accuracy: 0.9957 - val_loss: 0.2090 - val_accuracy: 0.9615 - 1s/epoch - 1s/step\n",
            "1/1 - 1s - loss: 0.0698 - accuracy: 0.9870 - val_loss: 0.0914 - val_accuracy: 0.9615 - 1s/epoch - 1s/step\n",
            "1/1 - 1s - loss: 0.1520 - accuracy: 0.9913 - val_loss: 0.0000e+00 - val_accuracy: 1.0000 - 1s/epoch - 1s/step\n",
            "1/1 - 1s - loss: 0.0534 - accuracy: 0.9913 - val_loss: 9.8977e-06 - val_accuracy: 1.0000 - 1s/epoch - 1s/step\n",
            "1/1 - 1s - loss: 0.2050 - accuracy: 0.9826 - val_loss: 0.0919 - val_accuracy: 0.9615 - 1s/epoch - 1s/step\n",
            "1/1 - 1s - loss: 0.2425 - accuracy: 0.9783 - val_loss: 9.6639e-06 - val_accuracy: 1.0000 - 1s/epoch - 1s/step\n",
            "1/1 - 1s - loss: 0.1404 - accuracy: 0.9870 - val_loss: 0.0113 - val_accuracy: 1.0000 - 1s/epoch - 1s/step\n",
            "1/1 - 1s - loss: 0.0104 - accuracy: 0.9957 - val_loss: 1.2379e-07 - val_accuracy: 1.0000 - 1s/epoch - 1s/step\n",
            "1/1 - 1s - loss: 0.0708 - accuracy: 0.9870 - val_loss: 0.0000e+00 - val_accuracy: 1.0000 - 1s/epoch - 1s/step\n",
            "1/1 - 1s - loss: 0.2898 - accuracy: 0.9826 - val_loss: 0.0000e+00 - val_accuracy: 1.0000 - 1s/epoch - 1s/step\n",
            "1/1 - 1s - loss: 0.0403 - accuracy: 0.9870 - val_loss: 3.2095e-08 - val_accuracy: 1.0000 - 1s/epoch - 1s/step\n",
            "1/1 - 1s - loss: 0.0294 - accuracy: 0.9957 - val_loss: 1.6506e-07 - val_accuracy: 1.0000 - 1s/epoch - 1s/step\n",
            "1/1 - 1s - loss: 0.0516 - accuracy: 0.9913 - val_loss: 0.0000e+00 - val_accuracy: 1.0000 - 1s/epoch - 1s/step\n",
            "1/1 - 1s - loss: 7.6421e-05 - accuracy: 1.0000 - val_loss: 2.2466e-07 - val_accuracy: 1.0000 - 1s/epoch - 1s/step\n",
            "1/1 - 1s - loss: 0.0000e+00 - accuracy: 1.0000 - val_loss: 0.0000e+00 - val_accuracy: 1.0000 - 1s/epoch - 1s/step\n",
            "1/1 - 1s - loss: 0.1485 - accuracy: 0.9913 - val_loss: 5.8457e-06 - val_accuracy: 1.0000 - 1s/epoch - 1s/step\n",
            "1/1 - 1s - loss: 0.1145 - accuracy: 0.9913 - val_loss: 0.0000e+00 - val_accuracy: 1.0000 - 1s/epoch - 1s/step\n",
            "1/1 - 1s - loss: 0.3163 - accuracy: 0.9565 - val_loss: 0.0000e+00 - val_accuracy: 1.0000 - 1s/epoch - 1s/step\n",
            "1/1 - 19s - loss: 1.0866 - accuracy: 0.9884 - val_loss: 0.0000e+00 - val_accuracy: 1.0000 - 19s/epoch - 19s/step\n"
          ]
        }
      ],
      "source": [
        "# Preprocess and resize images in batches (Due to memory problem that comes with processing rgb dataset as a whole)\n",
        "batch_size = 256\n",
        "num_train_samples = len(x_train)\n",
        "num_test_samples = len(x_test)\n",
        "for i in range(0, num_train_samples, batch_size):\n",
        "    batch_x_train = tf.image.resize(x_train[i:i+batch_size], (224, 224))\n",
        "    batch_y_train = y_train[i:i+batch_size]\n",
        "    model.fit(batch_x_train, batch_y_train, epochs=1, batch_size=batch_size, validation_split=0.1, verbose=2)\n"
      ]
    },
    {
      "cell_type": "code",
      "execution_count": 11,
      "metadata": {
        "colab": {
          "base_uri": "https://localhost:8080/"
        },
        "id": "Kdufn8fHDotj",
        "outputId": "23d3a1b5-6f35-4146-e1ec-8de3209c286e"
      },
      "outputs": [
        {
          "output_type": "stream",
          "name": "stdout",
          "text": [
            "313/313 [==============================] - 48s 133ms/step - loss: 0.1465 - accuracy: 0.9853\n",
            "Test Loss: 0.14653505384922028, Test Accuracy: 0.9853000044822693\n"
          ]
        }
      ],
      "source": [
        "# Resize test images to match input layer\n",
        "x_test = tf.image.resize(x_test,(224,224))\n",
        "# Evaluate the model on the test set\n",
        "loss, accuracy = model.evaluate(x_test, y_test)\n",
        "print(f'Test Loss: {loss}, Test Accuracy: {accuracy}')\n"
      ]
    }
  ],
  "metadata": {
    "kernelspec": {
      "display_name": "Python 3",
      "name": "python3"
    },
    "language_info": {
      "codemirror_mode": {
        "name": "ipython",
        "version": 3
      },
      "file_extension": ".py",
      "mimetype": "text/x-python",
      "name": "python",
      "nbconvert_exporter": "python",
      "pygments_lexer": "ipython3",
      "version": "3.10.11"
    },
    "colab": {
      "provenance": [],
      "gpuType": "T4",
      "include_colab_link": true
    },
    "accelerator": "GPU"
  },
  "nbformat": 4,
  "nbformat_minor": 0
}